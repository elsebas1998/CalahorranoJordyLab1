{
  "nbformat": 4,
  "nbformat_minor": 0,
  "metadata": {
    "colab": {
      "name": "Untitled0.ipynb",
      "provenance": []
    },
    "kernelspec": {
      "name": "python3",
      "display_name": "Python 3"
    },
    "language_info": {
      "name": "python"
    }
  },
  "cells": [
    {
      "cell_type": "code",
      "execution_count": 1,
      "metadata": {
        "id": "9w6ZHihjUuHh"
      },
      "outputs": [],
      "source": [
        "import glob\n",
        "import pandas as pd\n",
        "import xml.etree.ElementTree as ET\n",
        "from datetime import datetime"
      ]
    },
    {
      "cell_type": "code",
      "source": [
        "!wget https://cf-courses-data.s3.us.cloud-object-storage.appdomain.cloud/IBMDeveloperSkillsNetwork-PY0221EN-SkillsNetwork/labs/module%206/Lab%20-%20Extract%20Transform%20Load/data/datasource.zip"
      ],
      "metadata": {
        "colab": {
          "base_uri": "https://localhost:8080/"
        },
        "id": "paH1vuzXUvgN",
        "outputId": "ac6907f6-70d9-4d2f-dbaf-fd76dfa41f8f"
      },
      "execution_count": 2,
      "outputs": [
        {
          "output_type": "stream",
          "name": "stdout",
          "text": [
            "--2022-01-12 03:27:20--  https://cf-courses-data.s3.us.cloud-object-storage.appdomain.cloud/IBMDeveloperSkillsNetwork-PY0221EN-SkillsNetwork/labs/module%206/Lab%20-%20Extract%20Transform%20Load/data/datasource.zip\n",
            "Resolving cf-courses-data.s3.us.cloud-object-storage.appdomain.cloud (cf-courses-data.s3.us.cloud-object-storage.appdomain.cloud)... 169.63.118.104\n",
            "Connecting to cf-courses-data.s3.us.cloud-object-storage.appdomain.cloud (cf-courses-data.s3.us.cloud-object-storage.appdomain.cloud)|169.63.118.104|:443... connected.\n",
            "HTTP request sent, awaiting response... 200 OK\n",
            "Length: 4249 (4.1K) [application/zip]\n",
            "Saving to: ‘datasource.zip’\n",
            "\n",
            "datasource.zip      100%[===================>]   4.15K  --.-KB/s    in 0s      \n",
            "\n",
            "2022-01-12 03:27:21 (217 MB/s) - ‘datasource.zip’ saved [4249/4249]\n",
            "\n"
          ]
        }
      ]
    },
    {
      "cell_type": "code",
      "source": [
        "!unzip datasource.zip -d dealership_data"
      ],
      "metadata": {
        "colab": {
          "base_uri": "https://localhost:8080/"
        },
        "id": "VECb98bkUxzW",
        "outputId": "9b1471aa-bd85-47aa-ede4-e689da188a65"
      },
      "execution_count": 3,
      "outputs": [
        {
          "output_type": "stream",
          "name": "stdout",
          "text": [
            "Archive:  datasource.zip\n",
            "  inflating: dealership_data/used_car_prices1.csv  \n",
            "  inflating: dealership_data/used_car_prices2.csv  \n",
            "  inflating: dealership_data/used_car_prices3.csv  \n",
            "  inflating: dealership_data/used_car_prices1.json  \n",
            "  inflating: dealership_data/used_car_prices2.json  \n",
            "  inflating: dealership_data/used_car_prices3.json  \n",
            "  inflating: dealership_data/used_car_prices1.xml  \n",
            "  inflating: dealership_data/used_car_prices2.xml  \n",
            "  inflating: dealership_data/used_car_prices3.xml  \n"
          ]
        }
      ]
    },
    {
      "cell_type": "code",
      "source": [
        "tmpfile = \"dealership_temp.tmp\" # store all extracted data\n",
        "logfile = \"dealership_logfile.txt\" # all event logs will be stored\n",
        "targetfile = \"dealership_transformed_data.csv\" # transformed data is stored"
      ],
      "metadata": {
        "id": "B4b7cyMgUz8e"
      },
      "execution_count": 4,
      "outputs": []
    },
    {
      "cell_type": "code",
      "source": [
        "def extract_from_csv(file_to_process): \n",
        "    dataframe = pd.read_csv(file_to_process) \n",
        "    return dataframe"
      ],
      "metadata": {
        "id": "2k11NLTjU37o"
      },
      "execution_count": 10,
      "outputs": []
    },
    {
      "cell_type": "code",
      "source": [
        "def extract_from_json(file_to_process):\n",
        "    dataframe = pd.read_json(file_to_process,lines=True)\n",
        "    return dataframe"
      ],
      "metadata": {
        "id": "WvQOrDrDVNBl"
      },
      "execution_count": 11,
      "outputs": []
    },
    {
      "cell_type": "code",
      "source": [
        "def extract_from_xml(file_to_process):\n",
        "\n",
        "    dataframe = pd.DataFrame(columns=['car_model','year_of_manufacture','price', 'fuel'])\n",
        "\n",
        "    tree = ET.parse(file_to_process) \n",
        "\n",
        "    root = tree.getroot() \n",
        "\n",
        "    for person in root: \n",
        "\n",
        "        car_model = person.find(\"car_model\").text \n",
        "\n",
        "        year_of_manufacture = int(person.find(\"year_of_manufacture\").text)\n",
        "\n",
        "        price = float(person.find(\"price\").text) \n",
        "\n",
        "        fuel = person.find(\"fuel\").text \n",
        "\n",
        "        dataframe = dataframe.append({\"car_model\":car_model, \"year_of_manufacture\":year_of_manufacture, \"price\":price, \"fuel\":fuel}, ignore_index=True) \n",
        "\n",
        "        return dataframe"
      ],
      "metadata": {
        "id": "MyNiZXKOVNK5"
      },
      "execution_count": 12,
      "outputs": []
    },
    {
      "cell_type": "code",
      "source": [
        "def extract():\n",
        "      extracted_data = pd.DataFrame(columns=['car_model','year_of_manufacture','price', 'fuel']) \n",
        "    #for csv files\n",
        "      for csvfile in glob.glob(\"dealership_data/*.csv\"):\n",
        "          extracted_data = extracted_data.append(extract_from_csv(csvfile), ignore_index=True)\n",
        "    #for json files\n",
        "      for jsonfile in glob.glob(\"dealership_data/*.json\"):\n",
        "          extracted_data = extracted_data.append(extract_from_json(jsonfile), ignore_index=True)\n",
        "    #for xml files\n",
        "      for xmlfile in glob.glob(\"dealership_data/*.xml\"):\n",
        "          extracted_data = extracted_data.append(extract_from_xml(xmlfile), ignore_index=True)\n",
        "      return extracted_data"
      ],
      "metadata": {
        "id": "eMu9XnnTZNQd"
      },
      "execution_count": 19,
      "outputs": []
    },
    {
      "cell_type": "code",
      "source": [
        "def transform(data):\n",
        "       data['price'] = round(data.price, 2)\n",
        "       return data"
      ],
      "metadata": {
        "id": "uiUUGaLrasej"
      },
      "execution_count": 20,
      "outputs": []
    },
    {
      "cell_type": "code",
      "source": [
        "def load(targetfile,data_to_load):\n",
        "    data_to_load.to_csv(targetfile)"
      ],
      "metadata": {
        "id": "k1nICGI0awKx"
      },
      "execution_count": 21,
      "outputs": []
    },
    {
      "cell_type": "code",
      "source": [
        "def log(message):\n",
        "    timestamp_format=\"%H:%M:%S-%h-%d-%Y\"\n",
        "    #Hour-Minute-Second-MonthName-Day-Year\n",
        "    now = datetime.now() # get current timestamp\n",
        "    timestamp = now.strftime(timestamp_format)\n",
        "    with open(\"dealership_logfile.txt\",\"a\") as f: f.write(timestamp + ',' + message + 'n')"
      ],
      "metadata": {
        "id": "yi-mx0Yoa0NT"
      },
      "execution_count": 22,
      "outputs": []
    },
    {
      "cell_type": "code",
      "source": [
        "log(\"ETL Job Started\")"
      ],
      "metadata": {
        "id": "T7Pc6IC1a3Pz"
      },
      "execution_count": 23,
      "outputs": []
    },
    {
      "cell_type": "code",
      "source": [
        "log(\"Extract phase Started\")\n",
        "extracted_data = extract() \n",
        "log(\"Extract phase Ended\")"
      ],
      "metadata": {
        "id": "_ZFnYNysa5sH"
      },
      "execution_count": 39,
      "outputs": []
    },
    {
      "cell_type": "code",
      "source": [
        "log (\"Transformation phase started\")\n",
        "transformed_data = transform(extracted_data)\n",
        "log(\"Transform phase Ended\")"
      ],
      "metadata": {
        "id": "fwHuE-Q-bRwL"
      },
      "execution_count": 40,
      "outputs": []
    },
    {
      "cell_type": "code",
      "source": [
        "log(\"Load phase Started\")\n",
        "load(targetfile,transformed_data)\n",
        "log(\"Load phase Ended\")"
      ],
      "metadata": {
        "id": "9YoF7c34bTsk"
      },
      "execution_count": 31,
      "outputs": []
    },
    {
      "cell_type": "code",
      "source": [
        "log(\"ETL Job Ended\")"
      ],
      "metadata": {
        "id": "HsZMONMcdI4I"
      },
      "execution_count": 32,
      "outputs": []
    }
  ]
}